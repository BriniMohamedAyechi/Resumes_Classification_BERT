{
  "nbformat": 4,
  "nbformat_minor": 0,
  "metadata": {
    "colab": {
      "provenance": [],
      "gpuType": "T4",
      "mount_file_id": "1syWPVY6hGZd9bnwQ-KGsQVZwOqon5NU2",
      "authorship_tag": "ABX9TyO/nQyxmDQpGwivi29d52o+",
      "include_colab_link": true
    },
    "kernelspec": {
      "name": "python3",
      "display_name": "Python 3"
    },
    "language_info": {
      "name": "python"
    },
    "accelerator": "GPU"
  },
  "cells": [
    {
      "cell_type": "markdown",
      "metadata": {
        "id": "view-in-github",
        "colab_type": "text"
      },
      "source": [
        "<a href=\"https://colab.research.google.com/github/BriniMohamedAyechi/Resumes_Classification_BERT/blob/main/Model_Test_BERT.ipynb\" target=\"_parent\"><img src=\"https://colab.research.google.com/assets/colab-badge.svg\" alt=\"Open In Colab\"/></a>"
      ]
    },
    {
      "cell_type": "code",
      "source": [
        "!pip install transformers\n",
        "!pip install PyPDF2\n"
      ],
      "metadata": {
        "colab": {
          "base_uri": "https://localhost:8080/"
        },
        "id": "KFfD1a_Bo_Ga",
        "outputId": "f284a1fe-66c0-4188-b507-c918bb2bdb9a"
      },
      "execution_count": null,
      "outputs": [
        {
          "output_type": "stream",
          "name": "stdout",
          "text": [
            "Collecting transformers\n",
            "  Downloading transformers-4.31.0-py3-none-any.whl (7.4 MB)\n",
            "\u001b[2K     \u001b[90m━━━━━━━━━━━━━━━━━━━━━━━━━━━━━━━━━━━━━━━━\u001b[0m \u001b[32m7.4/7.4 MB\u001b[0m \u001b[31m20.0 MB/s\u001b[0m eta \u001b[36m0:00:00\u001b[0m\n",
            "\u001b[?25hRequirement already satisfied: filelock in /usr/local/lib/python3.10/dist-packages (from transformers) (3.12.2)\n",
            "Collecting huggingface-hub<1.0,>=0.14.1 (from transformers)\n",
            "  Downloading huggingface_hub-0.16.4-py3-none-any.whl (268 kB)\n",
            "\u001b[2K     \u001b[90m━━━━━━━━━━━━━━━━━━━━━━━━━━━━━━━━━━━━━━\u001b[0m \u001b[32m268.8/268.8 kB\u001b[0m \u001b[31m30.3 MB/s\u001b[0m eta \u001b[36m0:00:00\u001b[0m\n",
            "\u001b[?25hRequirement already satisfied: numpy>=1.17 in /usr/local/lib/python3.10/dist-packages (from transformers) (1.22.4)\n",
            "Requirement already satisfied: packaging>=20.0 in /usr/local/lib/python3.10/dist-packages (from transformers) (23.1)\n",
            "Requirement already satisfied: pyyaml>=5.1 in /usr/local/lib/python3.10/dist-packages (from transformers) (6.0.1)\n",
            "Requirement already satisfied: regex!=2019.12.17 in /usr/local/lib/python3.10/dist-packages (from transformers) (2022.10.31)\n",
            "Requirement already satisfied: requests in /usr/local/lib/python3.10/dist-packages (from transformers) (2.27.1)\n",
            "Collecting tokenizers!=0.11.3,<0.14,>=0.11.1 (from transformers)\n",
            "  Downloading tokenizers-0.13.3-cp310-cp310-manylinux_2_17_x86_64.manylinux2014_x86_64.whl (7.8 MB)\n",
            "\u001b[2K     \u001b[90m━━━━━━━━━━━━━━━━━━━━━━━━━━━━━━━━━━━━━━━━\u001b[0m \u001b[32m7.8/7.8 MB\u001b[0m \u001b[31m54.0 MB/s\u001b[0m eta \u001b[36m0:00:00\u001b[0m\n",
            "\u001b[?25hCollecting safetensors>=0.3.1 (from transformers)\n",
            "  Downloading safetensors-0.3.1-cp310-cp310-manylinux_2_17_x86_64.manylinux2014_x86_64.whl (1.3 MB)\n",
            "\u001b[2K     \u001b[90m━━━━━━━━━━━━━━━━━━━━━━━━━━━━━━━━━━━━━━━━\u001b[0m \u001b[32m1.3/1.3 MB\u001b[0m \u001b[31m57.8 MB/s\u001b[0m eta \u001b[36m0:00:00\u001b[0m\n",
            "\u001b[?25hRequirement already satisfied: tqdm>=4.27 in /usr/local/lib/python3.10/dist-packages (from transformers) (4.65.0)\n",
            "Requirement already satisfied: fsspec in /usr/local/lib/python3.10/dist-packages (from huggingface-hub<1.0,>=0.14.1->transformers) (2023.6.0)\n",
            "Requirement already satisfied: typing-extensions>=3.7.4.3 in /usr/local/lib/python3.10/dist-packages (from huggingface-hub<1.0,>=0.14.1->transformers) (4.7.1)\n",
            "Requirement already satisfied: urllib3<1.27,>=1.21.1 in /usr/local/lib/python3.10/dist-packages (from requests->transformers) (1.26.16)\n",
            "Requirement already satisfied: certifi>=2017.4.17 in /usr/local/lib/python3.10/dist-packages (from requests->transformers) (2023.7.22)\n",
            "Requirement already satisfied: charset-normalizer~=2.0.0 in /usr/local/lib/python3.10/dist-packages (from requests->transformers) (2.0.12)\n",
            "Requirement already satisfied: idna<4,>=2.5 in /usr/local/lib/python3.10/dist-packages (from requests->transformers) (3.4)\n",
            "Installing collected packages: tokenizers, safetensors, huggingface-hub, transformers\n",
            "Successfully installed huggingface-hub-0.16.4 safetensors-0.3.1 tokenizers-0.13.3 transformers-4.31.0\n",
            "Collecting PyPDF2\n",
            "  Downloading pypdf2-3.0.1-py3-none-any.whl (232 kB)\n",
            "\u001b[2K     \u001b[90m━━━━━━━━━━━━━━━━━━━━━━━━━━━━━━━━━━━━━━━\u001b[0m \u001b[32m232.6/232.6 kB\u001b[0m \u001b[31m1.4 MB/s\u001b[0m eta \u001b[36m0:00:00\u001b[0m\n",
            "\u001b[?25hInstalling collected packages: PyPDF2\n",
            "Successfully installed PyPDF2-3.0.1\n"
          ]
        }
      ]
    },
    {
      "cell_type": "code",
      "source": [
        "import torch\n",
        "from transformers import BertTokenizer, BertForSequenceClassification\n",
        "from PyPDF2 import PdfReader\n",
        "from sklearn.metrics import confusion_matrix\n",
        "from google.colab import drive\n",
        "from matplotlib import pyplot as plt\n",
        "%matplotlib inline\n",
        "\n",
        "# Mount Google Drive\n",
        "drive.mount('/content/drive')\n",
        "\n",
        "# Load the fine-tuned model and tokenizer from Google Drive\n",
        "drive_path = '/content/drive/MyDrive/'\n",
        "model_name = 'FineTuned BERTBERT_RESUME'\n",
        "\n",
        "tokenizer = BertTokenizer.from_pretrained(drive_path + model_name)\n",
        "model = BertForSequenceClassification.from_pretrained(drive_path + model_name)\n",
        "\n",
        "def read_pdf_content(file_path):\n",
        "    pdf_reader = PdfReader(file_path)\n",
        "    pdf_text = \"\"\n",
        "    for page in pdf_reader.pages:\n",
        "        pdf_text += page.extract_text()\n",
        "    return pdf_text\n",
        "\n",
        "def evaluate_pdf(model, tokenizer, pdf_content):\n",
        "    inputs = tokenizer.encode_plus(\n",
        "        pdf_content,\n",
        "        add_special_tokens=True,\n",
        "        return_tensors='pt',\n",
        "        padding=True,\n",
        "        truncation=True,\n",
        "        max_length=512\n",
        "    )\n",
        "\n",
        "    input_ids = inputs['input_ids']\n",
        "    attention_mask = inputs['attention_mask']\n",
        "\n",
        "    # Ensure the model is in evaluation mode\n",
        "    model.eval()\n",
        "\n",
        "    with torch.no_grad():\n",
        "        outputs = model(input_ids, attention_mask=attention_mask)\n",
        "\n",
        "    logits = outputs.logits\n",
        "    predicted_class = torch.argmax(logits, dim=1).item()\n",
        "\n",
        "    # In your case, 'predicted_class' will indicate whether the PDF is valid (1) or invalid (0)\n",
        "    return predicted_class\n",
        "\n",
        "# List of PDF file paths to evaluate\n",
        "pdf_file_paths = ['/content/drive/MyDrive/FineTuned BERTBERT_RESUME/T1.pdf',\n",
        "                  '/content/drive/MyDrive/FineTuned BERTBERT_RESUME/T2.pdf',\n",
        "                  '/content/drive/MyDrive/FineTuned BERTBERT_RESUME/T3.pdf',\n",
        "                  '/content/drive/MyDrive/FineTuned BERTBERT_RESUME/T4.pdf',\n",
        "                  '/content/drive/MyDrive/FineTuned BERTBERT_RESUME/F1.pdf',\n",
        "                  '/content/drive/MyDrive/FineTuned BERTBERT_RESUME/F2.pdf',\n",
        "                  '/content/drive/MyDrive/FineTuned BERTBERT_RESUME/F3.pdf',\n",
        "                  '/content/drive/MyDrive/FineTuned BERTBERT_RESUME/F4.pdf'\n",
        "                  ]\n",
        "\n",
        "true_labels = [1, 1, 1, 1, 0, 0, 0, 0]  # Replace with the true class labels for each PDF in pdf_file_paths\n",
        "predicted_labels = []\n",
        "\n",
        "for pdf_file_path in pdf_file_paths:\n",
        "    pdf_content = read_pdf_content(pdf_file_path)\n",
        "    predicted_class = evaluate_pdf(model, tokenizer, pdf_content)\n",
        "    predicted_labels.append(predicted_class)\n",
        "    print(f\"Predicted class for '{pdf_file_path}': {'Valid' if predicted_class == 1 else 'Invalid'}\")\n",
        "\n",
        "# Create the confusion matrix\n",
        "conf_matrix = confusion_matrix(true_labels, predicted_labels)\n",
        "\n",
        "\n",
        "import seaborn as sn\n",
        "\n",
        "plt.figure(figsize=(10,7)) # THIS CODE IS TO PRINT THE TRUTH MATRICS TO SEE HOW WELL UR MODEL IS\n",
        "sn.heatmap(conf_matrix,annot=True)\n",
        "plt.xlabel('Predicted')\n",
        "plt.ylabel('Truth')\n"
      ],
      "metadata": {
        "colab": {
          "base_uri": "https://localhost:8080/",
          "height": 798
        },
        "id": "N3Sdp__KqDus",
        "outputId": "af3f94c5-fa35-49e2-8e37-bf04dc2e3e3f"
      },
      "execution_count": null,
      "outputs": [
        {
          "output_type": "stream",
          "name": "stdout",
          "text": [
            "Drive already mounted at /content/drive; to attempt to forcibly remount, call drive.mount(\"/content/drive\", force_remount=True).\n",
            "Predicted class for '/content/drive/MyDrive/FineTuned BERTBERT_RESUME/T1.pdf': Valid\n",
            "Predicted class for '/content/drive/MyDrive/FineTuned BERTBERT_RESUME/T2.pdf': Valid\n",
            "Predicted class for '/content/drive/MyDrive/FineTuned BERTBERT_RESUME/T3.pdf': Valid\n",
            "Predicted class for '/content/drive/MyDrive/FineTuned BERTBERT_RESUME/T4.pdf': Invalid\n",
            "Predicted class for '/content/drive/MyDrive/FineTuned BERTBERT_RESUME/F1.pdf': Valid\n",
            "Predicted class for '/content/drive/MyDrive/FineTuned BERTBERT_RESUME/F2.pdf': Invalid\n",
            "Predicted class for '/content/drive/MyDrive/FineTuned BERTBERT_RESUME/F3.pdf': Invalid\n",
            "Predicted class for '/content/drive/MyDrive/FineTuned BERTBERT_RESUME/F4.pdf': Invalid\n"
          ]
        },
        {
          "output_type": "execute_result",
          "data": {
            "text/plain": [
              "Text(95.72222222222221, 0.5, 'Truth')"
            ]
          },
          "metadata": {},
          "execution_count": 2
        },
        {
          "output_type": "display_data",
          "data": {
            "text/plain": [
              "<Figure size 1000x700 with 2 Axes>"
            ],
            "image/png": "[encoded data removed]"
          },
          "metadata": {}
        }
      ]
    }
  ]
}